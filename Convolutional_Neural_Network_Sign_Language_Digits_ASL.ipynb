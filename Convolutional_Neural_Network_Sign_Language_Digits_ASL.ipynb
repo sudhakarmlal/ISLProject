{
  "nbformat": 4,
  "nbformat_minor": 0,
  "metadata": {
    "kernelspec": {
      "display_name": "Python 3",
      "language": "python",
      "name": "python3"
    },
    "language_info": {
      "name": "python",
      "version": "3.6.6",
      "mimetype": "text/x-python",
      "codemirror_mode": {
        "name": "ipython",
        "version": 3
      },
      "pygments_lexer": "ipython3",
      "nbconvert_exporter": "python",
      "file_extension": ".py"
    },
    "colab": {
      "name": "Convolutional Neural Network-Sign Language Digits (3).ipynb",
      "provenance": [],
      "include_colab_link": true
    }
  },
  "cells": [
    {
      "cell_type": "markdown",
      "metadata": {
        "id": "view-in-github",
        "colab_type": "text"
      },
      "source": [
        "<a href=\"https://colab.research.google.com/github/sudhakarmlal/ISLProject/blob/master/Convolutional_Neural_Network_Sign_Language_Digits_ASL.ipynb\" target=\"_parent\"><img src=\"https://colab.research.google.com/assets/colab-badge.svg\" alt=\"Open In Colab\"/></a>"
      ]
    },
    {
      "cell_type": "markdown",
      "metadata": {
        "_uuid": "173e999edc2b7a70ae27eb5f81cf1d30915d5905",
        "id": "WiOV4g4o4mQa",
        "colab_type": "text"
      },
      "source": [
        "# Convolutional Neural Networks (CNNs / ConvNets)"
      ]
    },
    {
      "cell_type": "markdown",
      "metadata": {
        "_uuid": "5ce0c4a5f27366a3fffab2c1b6bc260cfcb98790",
        "id": "S6bYhMXz4mQc",
        "colab_type": "text"
      },
      "source": [
        "* # Sudhakar Reddy"
      ]
    },
    {
      "cell_type": "markdown",
      "metadata": {
        "_uuid": "534f8b5d0973b70ce52da66e81dd77eaa0b2b5e8",
        "id": "OjPiXd7b4mQd",
        "colab_type": "text"
      },
      "source": [
        "Content:\n",
        "* [Introduction](#1):\n",
        "* [Loading the Data Set](#2):\n",
        "* [Train-Test Split Data](#3):\n",
        "* [Convolutional Neural Network(Implementing with Keras)](#4):\n",
        "* [Create Model](#5):\n",
        "* [Define Optimizer](#6):\n",
        "* [Compile Model](#7):\n",
        "* [Fit the Model](#8):\n",
        "* [Evaluate the model](#9):\n",
        "* [Conclusion](#10):"
      ]
    },
    {
      "cell_type": "markdown",
      "metadata": {
        "_uuid": "bbd05b583c3937590070d6d7140f40972d25c778",
        "id": "LiPXwKMX4mQe",
        "colab_type": "text"
      },
      "source": [
        "<a id=\"1\"></a> <br>\n",
        "# INTRODUCTION\n",
        "* In this kernel, we will be working on Sign Language Digits Dataset (Implementing with Keras)."
      ]
    },
    {
      "cell_type": "code",
      "metadata": {
        "_uuid": "8f2839f25d086af736a60e9eeb907d3b93b6e0e5",
        "_cell_guid": "b1076dfc-b9ad-4769-8c92-a6c4dae69d19",
        "trusted": true,
        "id": "CK5mrQVz4mQf",
        "colab_type": "code",
        "colab": {},
        "outputId": "10ed41ce-ecd9-48a7-d081-6baaea5c239e"
      },
      "source": [
        "# This Python 3 environment comes with many helpful analytics libraries installed\n",
        "# It is defined by the kaggle/python docker image: https://github.com/kaggle/docker-python\n",
        "# For example, here's several helpful packages to load in \n",
        "\n",
        "import numpy as np # linear algebra\n",
        "import pandas as pd # data processing, CSV file I/O (e.g. pd.read_csv)\n",
        "import matplotlib.pyplot as plt\n",
        "import seaborn as sns\n",
        "\n",
        "# import warnings\n",
        "import warnings\n",
        "# filter warnings\n",
        "warnings.filterwarnings('ignore')\n",
        "\n",
        "# Input data files are available in the \"../input/\" directory.\n",
        "# For example, running this (by clicking run or pressing Shift+Enter) will list the files in the input directory\n",
        "\n",
        "import os\n",
        "print(os.listdir(\"../input\"))\n",
        "\n",
        "# Any results you write to the current directory are saved as output."
      ],
      "execution_count": 0,
      "outputs": [
        {
          "output_type": "stream",
          "text": [
            "['Y.npy', 'Sign-language-digits-dataset', 'X.npy']\n"
          ],
          "name": "stdout"
        }
      ]
    },
    {
      "cell_type": "markdown",
      "metadata": {
        "_cell_guid": "79c7e3d0-c299-4dcb-8224-4455121ee9b0",
        "collapsed": true,
        "_uuid": "d629ff2d2480ee46fbb7e2d37f6b5fab8052498a",
        "trusted": false,
        "id": "_QhMU0FZ4mQm",
        "colab_type": "text"
      },
      "source": [
        "<a id=\"2\"></a> <br>\n",
        "## Loading the Data Set\n",
        "* In this part we load and visualize the data."
      ]
    },
    {
      "cell_type": "code",
      "metadata": {
        "trusted": true,
        "_uuid": "7b2bf83a08f2fee8caa0409bbb516b120f04fe0c",
        "id": "mnt042_m4mQn",
        "colab_type": "code",
        "colab": {}
      },
      "source": [
        "# load data set\n",
        "x = np.load('../input/Sign-language-digits-dataset/X.npy')\n",
        "y = np.load('../input/Sign-language-digits-dataset/Y.npy')"
      ],
      "execution_count": 0,
      "outputs": []
    },
    {
      "cell_type": "code",
      "metadata": {
        "trusted": true,
        "_uuid": "48e057e080dcc1b2d6980dbb7788f6dfa36804e1",
        "id": "T3obVDsn4mQs",
        "colab_type": "code",
        "colab": {},
        "outputId": "f9c032ab-7242-45db-a016-4460aac167c9"
      },
      "source": [
        "img_size = 64\n",
        "plt.subplot(1,2,1)\n",
        "plt.imshow(x[700].reshape(img_size,img_size))\n",
        "plt.axis('off')\n",
        "plt.subplot(1,2,2)\n",
        "plt.imshow(x[1500].reshape(img_size,img_size))\n",
        "plt.axis('off')"
      ],
      "execution_count": 0,
      "outputs": [
        {
          "output_type": "execute_result",
          "data": {
            "text/plain": [
              "(-0.5, 63.5, 63.5, -0.5)"
            ]
          },
          "metadata": {
            "tags": []
          },
          "execution_count": 3
        },
        {
          "output_type": "display_data",
          "data": {
            "text/plain": [
              "<Figure size 432x288 with 2 Axes>"
            ],
            "image/png": "[encoded data removed]"
          },
          "metadata": {
            "tags": []
          }
        }
      ]
    },
    {
      "cell_type": "code",
      "metadata": {
        "trusted": true,
        "_uuid": "77d22c215edcde90a02df956c795ce7a7bed6b87",
        "id": "06VzWzEH4mQx",
        "colab_type": "code",
        "colab": {},
        "outputId": "050437eb-26c9-4b54-fd1a-daf83f4d745a"
      },
      "source": [
        "# As you can see, y (labels) are already one hot encoded\n",
        "print(y.max())\n",
        "print(y.min())\n",
        "print(y.shape)\n",
        "\n",
        "# And x (features) are already scaled between 0 and 1\n",
        "print(x.max())\n",
        "print(x.min())\n",
        "print(x.shape)"
      ],
      "execution_count": 0,
      "outputs": [
        {
          "output_type": "stream",
          "text": [
            "1.0\n",
            "0.0\n",
            "(2062, 10)\n",
            "1.0\n",
            "0.003921569\n",
            "(2062, 64, 64)\n"
          ],
          "name": "stdout"
        }
      ]
    },
    {
      "cell_type": "markdown",
      "metadata": {
        "_uuid": "66224341091460edd6b650dd651890da333dbbe1",
        "id": "oV5kbbjM4mQ2",
        "colab_type": "text"
      },
      "source": [
        "<a id=\"3\"></a> <br>\n",
        "## Train-Test Split Data"
      ]
    },
    {
      "cell_type": "code",
      "metadata": {
        "trusted": true,
        "_uuid": "41ad1403adeacdbb5aaf7dd60d60373125916bfc",
        "id": "FKYAy5134mQ3",
        "colab_type": "code",
        "colab": {},
        "outputId": "77573dcd-1e2f-42d5-9116-0ab564a92b5f"
      },
      "source": [
        "# Now,lets create x_train, y_train, x_test, y_test arrays\n",
        "from sklearn.model_selection import train_test_split\n",
        "x_train, x_test, y_train, y_test = train_test_split(x, y, test_size = 0.2, random_state = 42)\n",
        "#reshape\n",
        "x_train = x_train.reshape(-1,64,64,1)\n",
        "x_test = x_test.reshape(-1,64,64,1)\n",
        "#print x_train and y_train shape\n",
        "print(x_train.shape)\n",
        "print(y_train.shape)\n",
        "print(x_test.shape)\n",
        "print(y_test.shape)"
      ],
      "execution_count": 0,
      "outputs": [
        {
          "output_type": "stream",
          "text": [
            "(1649, 64, 64, 1)\n",
            "(1649, 10)\n",
            "(413, 64, 64, 1)\n",
            "(413, 10)\n"
          ],
          "name": "stdout"
        }
      ]
    },
    {
      "cell_type": "markdown",
      "metadata": {
        "_uuid": "ac5bb6e54c0628ebe612df39b1ca2093cf3bca77",
        "id": "eElS3-Ol4mQ6",
        "colab_type": "text"
      },
      "source": [
        "<a id=\"4\"></a> <br>\n",
        "## Implementing with Keras"
      ]
    },
    {
      "cell_type": "markdown",
      "metadata": {
        "_uuid": "9fb1ff6419c748ce895a519ec62b590853cdd49d",
        "id": "IFTwcnkP4mQ7",
        "colab_type": "text"
      },
      "source": [
        "<a id=\"5\"></a> <br>\n",
        "### Create Model\n"
      ]
    },
    {
      "cell_type": "code",
      "metadata": {
        "trusted": true,
        "_uuid": "1fc9832e42057b044ec28c4de6a0bbdcec0ce463",
        "id": "l7ah20a54mQ8",
        "colab_type": "code",
        "colab": {},
        "outputId": "86938792-12ad-4eeb-d5df-a761490ab196"
      },
      "source": [
        "from sklearn.metrics import confusion_matrix\n",
        "import itertools\n",
        "\n",
        "from keras.utils.np_utils import to_categorical # convert to one-hot-encoding\n",
        "from keras.models import Sequential # to create a cnn model\n",
        "from keras.layers import Dense, Dropout, Flatten, Conv2D, MaxPool2D\n",
        "from keras.optimizers import RMSprop,Adam\n",
        "from keras.preprocessing.image import ImageDataGenerator\n",
        "from keras.callbacks import ReduceLROnPlateau\n",
        "\n",
        "model = Sequential()\n",
        "\n",
        "model.add(Conv2D(filters = 8, kernel_size = (5,5), padding = 'Same', activation = 'relu', input_shape = (64,64,1)))\n",
        "model.add(MaxPool2D(pool_size = (2,2)))\n",
        "model.add(Dropout(0.25))\n",
        "\n",
        "model.add(Conv2D(filters = 16, kernel_size = (3,3), padding = 'Same', activation = 'relu'))\n",
        "model.add(MaxPool2D(pool_size = (2,2)))\n",
        "model.add(Dropout(0.25))\n",
        "\n",
        "model.add(Conv2D(filters = 32, kernel_size = (3,3), padding = 'Same', activation = 'relu'))\n",
        "model.add(MaxPool2D(pool_size = (2,2)))\n",
        "model.add(Dropout(0.25))\n",
        "\n",
        "model.add(Conv2D(filters = 64, kernel_size = (3,3), padding = 'Same', activation = 'relu'))\n",
        "model.add(MaxPool2D(pool_size = (2,2)))\n",
        "model.add(Dropout(0.25))\n",
        "\n",
        "\n",
        "# fully connected\n",
        "model.add(Flatten())\n",
        "\n",
        "model.add(Dense(128, activation = 'relu'))\n",
        "model.add(Dense(64, activation = 'relu'))\n",
        "model.add(Dense(10, activation = 'softmax'))"
      ],
      "execution_count": 0,
      "outputs": [
        {
          "output_type": "stream",
          "text": [
            "Using TensorFlow backend.\n"
          ],
          "name": "stderr"
        }
      ]
    },
    {
      "cell_type": "code",
      "metadata": {
        "trusted": true,
        "_uuid": "55bfc3d55fe59176ec53a791b42111b7ba59e645",
        "id": "4cYM-mxM4mRC",
        "colab_type": "code",
        "colab": {}
      },
      "source": [
        "model.summary()"
      ],
      "execution_count": 0,
      "outputs": []
    },
    {
      "cell_type": "markdown",
      "metadata": {
        "_uuid": "84c81381f331bc988a7dd34dd1cc4959bb4d2003",
        "id": "EybOynhv4mRE",
        "colab_type": "text"
      },
      "source": [
        "<a id=\"6\"></a>\n",
        "### Define Optimizer   \n",
        "* Adam optimizer: Change the learning rate"
      ]
    },
    {
      "cell_type": "code",
      "metadata": {
        "trusted": true,
        "_uuid": "a6a8be4b2d17e849e688eccec2c65c9ca070a2f3",
        "id": "51c9n_Ep4mRF",
        "colab_type": "code",
        "colab": {}
      },
      "source": [
        "# Define the optimizer\n",
        "optimizer = Adam(lr = 0.001, beta_1 = 0.9, beta_2 = 0.999)"
      ],
      "execution_count": 0,
      "outputs": []
    },
    {
      "cell_type": "markdown",
      "metadata": {
        "_uuid": "10ce397701244178632c725f2c81c2d9d205c93c",
        "id": "X1smoEPr4mRJ",
        "colab_type": "text"
      },
      "source": [
        "<a id=\"7\"></a>\n",
        "### Compile Model\n",
        "* categorical crossentropy\n",
        "* We make binary cross entropy at previous parts and in machine learning tutorial\n",
        "* At this time we use categorical crossentropy. That means that we have multi class.\n",
        "* <a href=\"https://ibb.co/jm1bpp\"><img src=\"https://preview.ibb.co/nN3ZaU/cce.jpg\" alt=\"cce\" border=\"0\"></a>"
      ]
    },
    {
      "cell_type": "code",
      "metadata": {
        "trusted": true,
        "_uuid": "ab4669fa5b5430e897bd7dd598dd0444621dfa31",
        "id": "DHk2DVCR4mRJ",
        "colab_type": "code",
        "colab": {}
      },
      "source": [
        "# Compile the model\n",
        "model.compile(optimizer = optimizer, loss = \"categorical_crossentropy\", metrics=[\"accuracy\"])"
      ],
      "execution_count": 0,
      "outputs": []
    },
    {
      "cell_type": "markdown",
      "metadata": {
        "_uuid": "689c26fb428cb9ddd1cefb0269532149401d9954",
        "id": "AOTOlnPL4mRM",
        "colab_type": "text"
      },
      "source": [
        "<a id=\"8\"></a>\n",
        "### Fit the Model"
      ]
    },
    {
      "cell_type": "code",
      "metadata": {
        "trusted": true,
        "_uuid": "cbad53fe305c757e6183f86cd0d2f65fa97b3732",
        "id": "9aHWYfWh4mRO",
        "colab_type": "code",
        "colab": {},
        "outputId": "2dca8dff-351c-4ccb-edb2-61dcb7c2377e"
      },
      "source": [
        "history = model.fit(x_train,y_train,epochs=100,validation_data=(x_test,y_test))"
      ],
      "execution_count": 0,
      "outputs": [
        {
          "output_type": "stream",
          "text": [
            "Train on 1649 samples, validate on 413 samples\n",
            "Epoch 1/100\n",
            "1649/1649 [==============================] - 5s 3ms/step - loss: 2.3084 - acc: 0.0861 - val_loss: 2.3032 - val_acc: 0.0847\n",
            "Epoch 2/100\n",
            "1649/1649 [==============================] - 4s 3ms/step - loss: 2.3029 - acc: 0.1055 - val_loss: 2.3038 - val_acc: 0.0847\n",
            "Epoch 3/100\n",
            "1649/1649 [==============================] - 4s 3ms/step - loss: 2.3030 - acc: 0.0988 - val_loss: 2.3043 - val_acc: 0.0847\n",
            "Epoch 4/100\n",
            "1649/1649 [==============================] - 4s 3ms/step - loss: 2.3011 - acc: 0.1092 - val_loss: 2.3009 - val_acc: 0.0775\n",
            "Epoch 5/100\n",
            "1649/1649 [==============================] - 4s 3ms/step - loss: 2.0036 - acc: 0.2547 - val_loss: 1.2778 - val_acc: 0.4697\n",
            "Epoch 6/100\n",
            "1649/1649 [==============================] - 4s 3ms/step - loss: 1.0439 - acc: 0.6313 - val_loss: 0.5501 - val_acc: 0.8281\n",
            "Epoch 7/100\n",
            "1649/1649 [==============================] - 4s 3ms/step - loss: 0.6580 - acc: 0.7762 - val_loss: 0.4328 - val_acc: 0.8741\n",
            "Epoch 8/100\n",
            "1649/1649 [==============================] - 5s 3ms/step - loss: 0.4850 - acc: 0.8417 - val_loss: 0.3133 - val_acc: 0.9080\n",
            "Epoch 9/100\n",
            "1649/1649 [==============================] - 4s 3ms/step - loss: 0.3912 - acc: 0.8836 - val_loss: 0.1944 - val_acc: 0.9370\n",
            "Epoch 10/100\n",
            "1649/1649 [==============================] - 4s 3ms/step - loss: 0.3459 - acc: 0.8854 - val_loss: 0.2125 - val_acc: 0.9249\n",
            "Epoch 11/100\n",
            "1649/1649 [==============================] - 4s 3ms/step - loss: 0.2933 - acc: 0.8987 - val_loss: 0.1407 - val_acc: 0.9540\n",
            "Epoch 12/100\n",
            "1649/1649 [==============================] - 4s 3ms/step - loss: 0.2591 - acc: 0.9109 - val_loss: 0.1713 - val_acc: 0.9516\n",
            "Epoch 13/100\n",
            "1649/1649 [==============================] - 4s 3ms/step - loss: 0.1893 - acc: 0.9418 - val_loss: 0.1044 - val_acc: 0.9709\n",
            "Epoch 14/100\n",
            "1649/1649 [==============================] - 4s 3ms/step - loss: 0.1794 - acc: 0.9375 - val_loss: 0.0954 - val_acc: 0.9685\n",
            "Epoch 15/100\n",
            "1649/1649 [==============================] - 4s 3ms/step - loss: 0.1592 - acc: 0.9454 - val_loss: 0.0778 - val_acc: 0.9831\n",
            "Epoch 16/100\n",
            "1649/1649 [==============================] - 4s 3ms/step - loss: 0.1730 - acc: 0.9394 - val_loss: 0.0774 - val_acc: 0.9734\n",
            "Epoch 17/100\n",
            "1649/1649 [==============================] - 4s 3ms/step - loss: 0.1210 - acc: 0.9630 - val_loss: 0.0648 - val_acc: 0.9855\n",
            "Epoch 18/100\n",
            "1649/1649 [==============================] - 4s 3ms/step - loss: 0.1169 - acc: 0.9660 - val_loss: 0.0970 - val_acc: 0.9613\n",
            "Epoch 19/100\n",
            "1649/1649 [==============================] - 4s 3ms/step - loss: 0.1363 - acc: 0.9557 - val_loss: 0.0684 - val_acc: 0.9734\n",
            "Epoch 20/100\n",
            "1649/1649 [==============================] - 4s 3ms/step - loss: 0.1295 - acc: 0.9588 - val_loss: 0.0635 - val_acc: 0.9782\n",
            "Epoch 21/100\n",
            "1649/1649 [==============================] - 4s 3ms/step - loss: 0.0947 - acc: 0.9709 - val_loss: 0.0839 - val_acc: 0.9782\n",
            "Epoch 22/100\n",
            "1649/1649 [==============================] - 5s 3ms/step - loss: 0.1101 - acc: 0.9648 - val_loss: 0.0774 - val_acc: 0.9758\n",
            "Epoch 23/100\n",
            "1649/1649 [==============================] - 5s 3ms/step - loss: 0.0834 - acc: 0.9727 - val_loss: 0.0851 - val_acc: 0.9685\n",
            "Epoch 24/100\n",
            "1649/1649 [==============================] - 4s 3ms/step - loss: 0.0964 - acc: 0.9685 - val_loss: 0.0627 - val_acc: 0.9831\n",
            "Epoch 25/100\n",
            "1649/1649 [==============================] - 4s 3ms/step - loss: 0.1181 - acc: 0.9624 - val_loss: 0.0661 - val_acc: 0.9806\n",
            "Epoch 26/100\n",
            "1649/1649 [==============================] - 4s 3ms/step - loss: 0.0941 - acc: 0.9685 - val_loss: 0.1045 - val_acc: 0.9613\n",
            "Epoch 27/100\n",
            "1649/1649 [==============================] - 4s 3ms/step - loss: 0.0897 - acc: 0.9715 - val_loss: 0.0754 - val_acc: 0.9855\n",
            "Epoch 28/100\n",
            "1649/1649 [==============================] - 4s 3ms/step - loss: 0.0844 - acc: 0.9727 - val_loss: 0.0726 - val_acc: 0.9782\n",
            "Epoch 29/100\n",
            "1649/1649 [==============================] - 4s 3ms/step - loss: 0.0762 - acc: 0.9745 - val_loss: 0.0703 - val_acc: 0.9806\n",
            "Epoch 30/100\n",
            "1649/1649 [==============================] - 4s 3ms/step - loss: 0.0873 - acc: 0.9745 - val_loss: 0.0653 - val_acc: 0.9806\n",
            "Epoch 31/100\n",
            "1649/1649 [==============================] - 4s 3ms/step - loss: 0.0838 - acc: 0.9715 - val_loss: 0.0542 - val_acc: 0.9806\n",
            "Epoch 32/100\n",
            "1649/1649 [==============================] - 4s 3ms/step - loss: 0.0521 - acc: 0.9867 - val_loss: 0.0399 - val_acc: 0.9831\n",
            "Epoch 33/100\n",
            "1649/1649 [==============================] - 4s 3ms/step - loss: 0.0626 - acc: 0.9794 - val_loss: 0.0630 - val_acc: 0.9758\n",
            "Epoch 34/100\n",
            "1649/1649 [==============================] - 4s 3ms/step - loss: 0.0676 - acc: 0.9763 - val_loss: 0.0597 - val_acc: 0.9831\n",
            "Epoch 35/100\n",
            "1649/1649 [==============================] - 4s 3ms/step - loss: 0.0568 - acc: 0.9830 - val_loss: 0.0549 - val_acc: 0.9855\n",
            "Epoch 36/100\n",
            "1649/1649 [==============================] - 5s 3ms/step - loss: 0.0431 - acc: 0.9854 - val_loss: 0.0412 - val_acc: 0.9831\n",
            "Epoch 37/100\n",
            "1649/1649 [==============================] - 5s 3ms/step - loss: 0.0665 - acc: 0.9788 - val_loss: 0.0455 - val_acc: 0.9927\n",
            "Epoch 38/100\n",
            "1649/1649 [==============================] - 4s 3ms/step - loss: 0.0649 - acc: 0.9788 - val_loss: 0.0420 - val_acc: 0.9831\n",
            "Epoch 39/100\n",
            "1649/1649 [==============================] - 4s 3ms/step - loss: 0.0500 - acc: 0.9842 - val_loss: 0.0444 - val_acc: 0.9903\n",
            "Epoch 40/100\n",
            "1649/1649 [==============================] - 4s 3ms/step - loss: 0.0497 - acc: 0.9806 - val_loss: 0.0427 - val_acc: 0.9879\n",
            "Epoch 41/100\n",
            "1649/1649 [==============================] - 4s 3ms/step - loss: 0.0394 - acc: 0.9903 - val_loss: 0.0461 - val_acc: 0.9903\n",
            "Epoch 42/100\n",
            "1649/1649 [==============================] - 4s 3ms/step - loss: 0.0601 - acc: 0.9830 - val_loss: 0.0639 - val_acc: 0.9806\n",
            "Epoch 43/100\n",
            "1649/1649 [==============================] - 4s 3ms/step - loss: 0.0352 - acc: 0.9861 - val_loss: 0.0425 - val_acc: 0.9903\n",
            "Epoch 44/100\n",
            "1649/1649 [==============================] - 4s 3ms/step - loss: 0.0552 - acc: 0.9812 - val_loss: 0.0484 - val_acc: 0.9831\n",
            "Epoch 45/100\n",
            "1649/1649 [==============================] - 4s 3ms/step - loss: 0.0471 - acc: 0.9873 - val_loss: 0.0479 - val_acc: 0.9855\n",
            "Epoch 46/100\n",
            "1649/1649 [==============================] - 4s 3ms/step - loss: 0.0520 - acc: 0.9854 - val_loss: 0.0504 - val_acc: 0.9879\n",
            "Epoch 47/100\n",
            "1649/1649 [==============================] - 4s 3ms/step - loss: 0.0400 - acc: 0.9885 - val_loss: 0.0718 - val_acc: 0.9758\n",
            "Epoch 48/100\n",
            "1649/1649 [==============================] - 4s 3ms/step - loss: 0.0462 - acc: 0.9842 - val_loss: 0.0447 - val_acc: 0.9782\n",
            "Epoch 49/100\n",
            "1649/1649 [==============================] - 5s 3ms/step - loss: 0.0578 - acc: 0.9806 - val_loss: 0.0478 - val_acc: 0.9831\n",
            "Epoch 50/100\n",
            "1649/1649 [==============================] - 4s 3ms/step - loss: 0.0581 - acc: 0.9818 - val_loss: 0.0565 - val_acc: 0.9806\n",
            "Epoch 51/100\n",
            "1649/1649 [==============================] - 4s 3ms/step - loss: 0.0388 - acc: 0.9903 - val_loss: 0.0559 - val_acc: 0.9806\n",
            "Epoch 52/100\n",
            "1649/1649 [==============================] - 4s 3ms/step - loss: 0.0325 - acc: 0.9903 - val_loss: 0.0613 - val_acc: 0.9903\n",
            "Epoch 53/100\n",
            "1649/1649 [==============================] - 4s 3ms/step - loss: 0.0455 - acc: 0.9842 - val_loss: 0.0616 - val_acc: 0.9782\n",
            "Epoch 54/100\n",
            "1649/1649 [==============================] - 4s 3ms/step - loss: 0.0427 - acc: 0.9854 - val_loss: 0.0467 - val_acc: 0.9855\n",
            "Epoch 55/100\n",
            "1649/1649 [==============================] - 4s 3ms/step - loss: 0.0310 - acc: 0.9897 - val_loss: 0.0405 - val_acc: 0.9855\n",
            "Epoch 56/100\n",
            "1649/1649 [==============================] - 4s 3ms/step - loss: 0.0356 - acc: 0.9885 - val_loss: 0.0363 - val_acc: 0.9855\n",
            "Epoch 57/100\n",
            "1649/1649 [==============================] - 4s 3ms/step - loss: 0.0207 - acc: 0.9939 - val_loss: 0.0450 - val_acc: 0.9831\n",
            "Epoch 58/100\n",
            "1649/1649 [==============================] - 4s 3ms/step - loss: 0.0341 - acc: 0.9897 - val_loss: 0.0531 - val_acc: 0.9879\n",
            "Epoch 59/100\n",
            "1649/1649 [==============================] - 4s 3ms/step - loss: 0.0352 - acc: 0.9836 - val_loss: 0.0671 - val_acc: 0.9782\n",
            "Epoch 60/100\n",
            "1649/1649 [==============================] - 4s 3ms/step - loss: 0.0369 - acc: 0.9867 - val_loss: 0.0454 - val_acc: 0.9879\n"
          ],
          "name": "stdout"
        },
        {
          "output_type": "stream",
          "text": [
            "Epoch 61/100\n",
            "1649/1649 [==============================] - 4s 3ms/step - loss: 0.0559 - acc: 0.9830 - val_loss: 0.0623 - val_acc: 0.9831\n",
            "Epoch 62/100\n",
            "1649/1649 [==============================] - 4s 3ms/step - loss: 0.0583 - acc: 0.9812 - val_loss: 0.0505 - val_acc: 0.9879\n",
            "Epoch 63/100\n",
            "1649/1649 [==============================] - 5s 3ms/step - loss: 0.0396 - acc: 0.9861 - val_loss: 0.0303 - val_acc: 0.9903\n",
            "Epoch 64/100\n",
            "1649/1649 [==============================] - 5s 3ms/step - loss: 0.0277 - acc: 0.9909 - val_loss: 0.0202 - val_acc: 0.9903\n",
            "Epoch 65/100\n",
            "1649/1649 [==============================] - 4s 3ms/step - loss: 0.0252 - acc: 0.9903 - val_loss: 0.0242 - val_acc: 0.9879\n",
            "Epoch 66/100\n",
            "1649/1649 [==============================] - 4s 3ms/step - loss: 0.0216 - acc: 0.9933 - val_loss: 0.0382 - val_acc: 0.9927\n",
            "Epoch 67/100\n",
            "1649/1649 [==============================] - 4s 3ms/step - loss: 0.0201 - acc: 0.9945 - val_loss: 0.0263 - val_acc: 0.9927\n",
            "Epoch 68/100\n",
            "1649/1649 [==============================] - 4s 3ms/step - loss: 0.0618 - acc: 0.9818 - val_loss: 0.0500 - val_acc: 0.9831\n",
            "Epoch 69/100\n",
            "1649/1649 [==============================] - 4s 3ms/step - loss: 0.0260 - acc: 0.9897 - val_loss: 0.0229 - val_acc: 0.9927\n",
            "Epoch 70/100\n",
            "1649/1649 [==============================] - 4s 3ms/step - loss: 0.0468 - acc: 0.9854 - val_loss: 0.0440 - val_acc: 0.9855\n",
            "Epoch 71/100\n",
            "1649/1649 [==============================] - 4s 3ms/step - loss: 0.0328 - acc: 0.9891 - val_loss: 0.0182 - val_acc: 0.9952\n",
            "Epoch 72/100\n",
            "1649/1649 [==============================] - 4s 3ms/step - loss: 0.0171 - acc: 0.9964 - val_loss: 0.0361 - val_acc: 0.9855\n",
            "Epoch 73/100\n",
            "1649/1649 [==============================] - 4s 3ms/step - loss: 0.0156 - acc: 0.9939 - val_loss: 0.0259 - val_acc: 0.9927\n",
            "Epoch 74/100\n",
            "1649/1649 [==============================] - 4s 3ms/step - loss: 0.0257 - acc: 0.9903 - val_loss: 0.0401 - val_acc: 0.9831\n",
            "Epoch 75/100\n",
            "1649/1649 [==============================] - 4s 3ms/step - loss: 0.0425 - acc: 0.9879 - val_loss: 0.0476 - val_acc: 0.9806\n",
            "Epoch 76/100\n",
            "1649/1649 [==============================] - 4s 3ms/step - loss: 0.0180 - acc: 0.9933 - val_loss: 0.0384 - val_acc: 0.9831\n",
            "Epoch 77/100\n",
            "1649/1649 [==============================] - 5s 3ms/step - loss: 0.0308 - acc: 0.9897 - val_loss: 0.0328 - val_acc: 0.9855\n",
            "Epoch 78/100\n",
            "1649/1649 [==============================] - 4s 3ms/step - loss: 0.0421 - acc: 0.9891 - val_loss: 0.0415 - val_acc: 0.9806\n",
            "Epoch 79/100\n",
            "1649/1649 [==============================] - 4s 3ms/step - loss: 0.0394 - acc: 0.9854 - val_loss: 0.0452 - val_acc: 0.9879\n",
            "Epoch 80/100\n",
            "1649/1649 [==============================] - 4s 3ms/step - loss: 0.0278 - acc: 0.9927 - val_loss: 0.0406 - val_acc: 0.9855\n",
            "Epoch 81/100\n",
            "1649/1649 [==============================] - 4s 3ms/step - loss: 0.0322 - acc: 0.9854 - val_loss: 0.0474 - val_acc: 0.9782\n",
            "Epoch 82/100\n",
            "1649/1649 [==============================] - 4s 3ms/step - loss: 0.0176 - acc: 0.9951 - val_loss: 0.0364 - val_acc: 0.9855\n",
            "Epoch 83/100\n",
            "1649/1649 [==============================] - 4s 3ms/step - loss: 0.0188 - acc: 0.9939 - val_loss: 0.0335 - val_acc: 0.9903\n",
            "Epoch 84/100\n",
            "1649/1649 [==============================] - 4s 3ms/step - loss: 0.0227 - acc: 0.9915 - val_loss: 0.0230 - val_acc: 0.9903\n",
            "Epoch 85/100\n",
            "1649/1649 [==============================] - 4s 3ms/step - loss: 0.0340 - acc: 0.9885 - val_loss: 0.0350 - val_acc: 0.9903\n",
            "Epoch 86/100\n",
            "1649/1649 [==============================] - 4s 3ms/step - loss: 0.0155 - acc: 0.9945 - val_loss: 0.0273 - val_acc: 0.9903\n",
            "Epoch 87/100\n",
            "1649/1649 [==============================] - 4s 3ms/step - loss: 0.0107 - acc: 0.9976 - val_loss: 0.0273 - val_acc: 0.9879\n",
            "Epoch 88/100\n",
            "1649/1649 [==============================] - 4s 3ms/step - loss: 0.0356 - acc: 0.9903 - val_loss: 0.0319 - val_acc: 0.9831\n",
            "Epoch 89/100\n",
            "1649/1649 [==============================] - 4s 3ms/step - loss: 0.0336 - acc: 0.9879 - val_loss: 0.0319 - val_acc: 0.9855\n",
            "Epoch 90/100\n",
            "1649/1649 [==============================] - 5s 3ms/step - loss: 0.0305 - acc: 0.9885 - val_loss: 0.0458 - val_acc: 0.9855\n",
            "Epoch 91/100\n",
            "1649/1649 [==============================] - 5s 3ms/step - loss: 0.0431 - acc: 0.9854 - val_loss: 0.0648 - val_acc: 0.9806\n",
            "Epoch 92/100\n",
            "1649/1649 [==============================] - 4s 3ms/step - loss: 0.0224 - acc: 0.9915 - val_loss: 0.0361 - val_acc: 0.9831\n",
            "Epoch 93/100\n",
            "1649/1649 [==============================] - 4s 3ms/step - loss: 0.0348 - acc: 0.9879 - val_loss: 0.0686 - val_acc: 0.9806\n",
            "Epoch 94/100\n",
            "1649/1649 [==============================] - 4s 3ms/step - loss: 0.0209 - acc: 0.9921 - val_loss: 0.0410 - val_acc: 0.9831\n",
            "Epoch 95/100\n",
            "1649/1649 [==============================] - 4s 3ms/step - loss: 0.0258 - acc: 0.9927 - val_loss: 0.0541 - val_acc: 0.9879\n",
            "Epoch 96/100\n",
            "1649/1649 [==============================] - 4s 3ms/step - loss: 0.0197 - acc: 0.9945 - val_loss: 0.0398 - val_acc: 0.9855\n",
            "Epoch 97/100\n",
            "1649/1649 [==============================] - 4s 3ms/step - loss: 0.0255 - acc: 0.9903 - val_loss: 0.0301 - val_acc: 0.9879\n",
            "Epoch 98/100\n",
            "1649/1649 [==============================] - 4s 3ms/step - loss: 0.0271 - acc: 0.9909 - val_loss: 0.0318 - val_acc: 0.9879\n",
            "Epoch 99/100\n",
            "1649/1649 [==============================] - 4s 3ms/step - loss: 0.0237 - acc: 0.9933 - val_loss: 0.0398 - val_acc: 0.9855\n",
            "Epoch 100/100\n",
            "1649/1649 [==============================] - 4s 3ms/step - loss: 0.0264 - acc: 0.9921 - val_loss: 0.0272 - val_acc: 0.9927\n"
          ],
          "name": "stdout"
        }
      ]
    },
    {
      "cell_type": "markdown",
      "metadata": {
        "trusted": true,
        "_uuid": "ffb860c59343138955b6b525254d09964dfd56b9",
        "id": "5M7mv2d04mRV",
        "colab_type": "text"
      },
      "source": [
        "<a id=\"9\"></a>\n",
        "## Evaluate the model\n",
        "* Validation and Loss visualization\n",
        "* Confusion matrix"
      ]
    },
    {
      "cell_type": "code",
      "metadata": {
        "trusted": true,
        "_uuid": "b9ec666ebc44c3f76259102cf8b14dcaf577ee52",
        "id": "y5XVv4ms4mRV",
        "colab_type": "code",
        "colab": {},
        "outputId": "359122f9-fdf7-4274-f7a7-a3c7bcfbe107"
      },
      "source": [
        "plt.figure(figsize=(24,8))\n",
        "\n",
        "plt.subplot(1,2,1)\n",
        "plt.plot(history.history[\"val_acc\"], label=\"validation_accuracy\", c=\"red\", linewidth=4)\n",
        "plt.plot(history.history[\"acc\"], label=\"training_accuracy\", c=\"green\", linewidth=4)\n",
        "plt.legend()\n",
        "plt.grid(True)\n",
        "\n",
        "plt.subplot(1,2,2)\n",
        "plt.plot(history.history[\"val_loss\"], label=\"validation_loss\", c=\"red\", linewidth=4)\n",
        "plt.plot(history.history[\"loss\"], label=\"training_loss\", c=\"green\", linewidth=4)\n",
        "plt.legend()\n",
        "plt.grid(True)\n",
        "\n",
        "plt.suptitle(\"ACC / LOSS\",fontsize=18)\n",
        "\n",
        "plt.show()\n"
      ],
      "execution_count": 0,
      "outputs": [
        {
          "output_type": "display_data",
          "data": {
            "text/plain": [
              "<Figure size 1728x576 with 2 Axes>"
            ],
            "image/png": "[encoded data removed]"
          },
          "metadata": {
            "tags": []
          }
        }
      ]
    },
    {
      "cell_type": "code",
      "metadata": {
        "trusted": true,
        "_uuid": "1dcda192745ebd479fc16bf817b1bfa188733645",
        "id": "GY7RZl4H4mRY",
        "colab_type": "code",
        "colab": {},
        "outputId": "6293439e-2f6a-4699-9395-325b5e5a8c30"
      },
      "source": [
        "print('Train accuracy of the model: ',history.history['acc'][-1])"
      ],
      "execution_count": 0,
      "outputs": [
        {
          "output_type": "stream",
          "text": [
            "Train accuracy of the model:  0.992116434202547\n"
          ],
          "name": "stdout"
        }
      ]
    },
    {
      "cell_type": "code",
      "metadata": {
        "trusted": true,
        "_uuid": "455b235230dd31e79c863d54b23cfdadfab2ed1b",
        "id": "-2_iRzzo4mRc",
        "colab_type": "code",
        "colab": {},
        "outputId": "b33a8017-5a5e-489d-e306-663602830ae1"
      },
      "source": [
        "print('Train loss of the model: ',history.history['loss'][-1])"
      ],
      "execution_count": 0,
      "outputs": [
        {
          "output_type": "stream",
          "text": [
            "Train loss of the model:  0.026430067480041935\n"
          ],
          "name": "stdout"
        }
      ]
    },
    {
      "cell_type": "code",
      "metadata": {
        "trusted": true,
        "_uuid": "7067a24dc0d40d04a2cbe504391e4d16f364190e",
        "id": "uE78fw5o4mRf",
        "colab_type": "code",
        "colab": {},
        "outputId": "678e26f0-a6f3-4d33-eeb4-9b7865c0d354"
      },
      "source": [
        "print('Validation accuracy of the model: ',history.history['val_acc'][-1])"
      ],
      "execution_count": 0,
      "outputs": [
        {
          "output_type": "stream",
          "text": [
            "Validation accuracy of the model:  0.9927360774818402\n"
          ],
          "name": "stdout"
        }
      ]
    },
    {
      "cell_type": "code",
      "metadata": {
        "trusted": true,
        "_uuid": "f36afcd36afc9fe08393e7e2465275ef297e4aee",
        "id": "EQpAfq0L4mRi",
        "colab_type": "code",
        "colab": {},
        "outputId": "0bb3648a-bbaf-44a0-83c2-edc99ad12bb1"
      },
      "source": [
        "print('Validation loss of the model: ',history.history['val_loss'][-1])"
      ],
      "execution_count": 0,
      "outputs": [
        {
          "output_type": "stream",
          "text": [
            "Validation loss of the model:  0.027183887092385343\n"
          ],
          "name": "stdout"
        }
      ]
    },
    {
      "cell_type": "code",
      "metadata": {
        "trusted": true,
        "_uuid": "ae53c302d52fd6ed6995da269b1b263ee095baf5",
        "id": "IBBmG4JL4mRl",
        "colab_type": "code",
        "colab": {},
        "outputId": "ca58f3e9-09f4-40ed-bbd7-9b58bbe0e59f"
      },
      "source": [
        "# confusion matrix\n",
        "import seaborn as sns\n",
        "# Predict the values from the validation dataset\n",
        "Y_pred = model.predict(x_test)\n",
        "# Convert predictions classes to one hot vectors \n",
        "Y_pred_classes = np.argmax(Y_pred,axis = 1) \n",
        "# Convert validation observations to one hot vectors\n",
        "Y_true = np.argmax(y_test,axis = 1) \n",
        "# compute the confusion matrix\n",
        "confusion_mtx = confusion_matrix(Y_true, Y_pred_classes) \n",
        "# plot the confusion matrix\n",
        "f,ax = plt.subplots(figsize=(8, 8))\n",
        "sns.heatmap(confusion_mtx, annot=True, linewidths=0.01,cmap=\"BuPu\",linecolor=\"gray\", fmt= '.1f',ax=ax)\n",
        "plt.xlabel(\"Predicted Label\")\n",
        "plt.ylabel(\"True Label\")\n",
        "plt.title(\"Confusion Matrix\")\n",
        "plt.show()"
      ],
      "execution_count": 0,
      "outputs": [
        {
          "output_type": "display_data",
          "data": {
            "text/plain": [
              "<Figure size 576x576 with 2 Axes>"
            ],
            "image/png": "[encoded data removed]"
          },
          "metadata": {
            "tags": []
          }
        }
      ]
    },
    {
      "cell_type": "markdown",
      "metadata": {
        "trusted": true,
        "_uuid": "5358786386d173c4638e73a97fa018c0047e8f97",
        "id": "v3Xk-hkU4mRo",
        "colab_type": "text"
      },
      "source": [
        "<a id=\"10\"></a>\n",
        "# Conclusion\n",
        "* If you like it, please upvote.\n",
        "* If you have any question, I will be appreciate to hear it."
      ]
    }
  ]
}